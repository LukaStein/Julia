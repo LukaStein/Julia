{
 "cells": [
  {
   "attachments": {},
   "cell_type": "markdown",
   "metadata": {},
   "source": [
    "# Getting started\n",
    "I followed the following tutorial\n",
    "> https://www.youtube.com/watch?v=4igzy3bGVkQ&ab_channel=TheJuliaProgrammingLanguage\n",
    "\n",
    "Topics:\n",
    "\n",
    "    1. How to print\n",
    "    2. How to assign variables\n",
    "    3. How to comment\n",
    "    4. Syntax for basic math\n",
    "\n",
    "\n",
    "## How to print\n",
    "In Julia we usually use println() to print"
   ]
  },
  {
   "cell_type": "code",
   "execution_count": 1,
   "metadata": {},
   "outputs": [
    {
     "name": "stdout",
     "output_type": "stream",
     "text": [
      "Hello world\n"
     ]
    }
   ],
   "source": [
    "println(\"Hello world\")"
   ]
  }
 ],
 "metadata": {
  "kernelspec": {
   "display_name": "Julia 1.9.4",
   "language": "julia",
   "name": "julia-1.9"
  },
  "language_info": {
   "file_extension": ".jl",
   "mimetype": "application/julia",
   "name": "julia",
   "version": "1.9.4"
  },
  "orig_nbformat": 4
 },
 "nbformat": 4,
 "nbformat_minor": 2
}
