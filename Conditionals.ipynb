{
 "cells": [
  {
   "cell_type": "markdown",
   "metadata": {},
   "source": [
    "# Conditionals\n",
    "Basic construnction:\n",
    "\n",
    "    if *condition 1*\n",
    "        *option 1*\n",
    "    elseif *condition 2*\n",
    "        *option 2*\n",
    "    else // default option\n",
    "        *option 3*\n",
    "    end\n",
    "\n",
    "\n",
    "    Allows to conditionally evaluate an option out of several options\n",
    "\n",
    "    For example to compare the size of two numbers\n",
    "\n"
   ]
  },
  {
   "cell_type": "code",
   "execution_count": 1,
   "metadata": {},
   "outputs": [
    {
     "data": {
      "text/plain": [
       "4"
      ]
     },
     "metadata": {},
     "output_type": "display_data"
    }
   ],
   "source": [
    "x = 3\n",
    "y = 4"
   ]
  },
  {
   "cell_type": "code",
   "execution_count": 2,
   "metadata": {},
   "outputs": [
    {
     "name": "stdout",
     "output_type": "stream",
     "text": [
      "4 is larger than 3\n"
     ]
    }
   ],
   "source": [
    "if x > y\n",
    "    println(\"$x is larger than $y\")\n",
    "elseif y > x\n",
    "    println(\"$y is larger than $x\")\n",
    "else   \n",
    "    print(\"$x and $y are equal\")\n",
    "end"
   ]
  },
  {
   "cell_type": "markdown",
   "metadata": {},
   "source": [
    "Simple exmaple of if and else"
   ]
  },
  {
   "cell_type": "code",
   "execution_count": 3,
   "metadata": {},
   "outputs": [
    {
     "data": {
      "text/plain": [
       "4"
      ]
     },
     "metadata": {},
     "output_type": "display_data"
    }
   ],
   "source": [
    "if x > y\n",
    "    x\n",
    "else\n",
    "    y\n",
    "end"
   ]
  },
  {
   "cell_type": "markdown",
   "metadata": {},
   "source": [
    "Instead you can also use the ternary (drietal) operator with the following syntax\n",
    "\n",
    " `a ? b : c`\n",
    "\n",
    "which equates to\n",
    "    if a\n",
    "        b\n",
    "    else\n",
    "        c\n",
    "    end\n"
   ]
  },
  {
   "cell_type": "code",
   "execution_count": 4,
   "metadata": {},
   "outputs": [
    {
     "data": {
      "text/plain": [
       "4"
      ]
     },
     "metadata": {},
     "output_type": "display_data"
    }
   ],
   "source": [
    "(x > y) ? x : y"
   ]
  },
  {
   "cell_type": "markdown",
   "metadata": {},
   "source": [
    "A fun related trick is short-circuit (kortsluiting) evaluation with the syntax\n",
    "\n",
    "`a && b`"
   ]
  },
  {
   "cell_type": "code",
   "execution_count": 5,
   "metadata": {},
   "outputs": [
    {
     "data": {
      "text/plain": [
       "false"
      ]
     },
     "metadata": {},
     "output_type": "display_data"
    }
   ],
   "source": [
    "(x > y) && println(\"$x is larger than $y\")"
   ]
  },
  {
   "cell_type": "code",
   "execution_count": 7,
   "metadata": {},
   "outputs": [
    {
     "name": "stdout",
     "output_type": "stream",
     "text": [
      "3 is smaller than 4\n"
     ]
    }
   ],
   "source": [
    "(x < y) && println(\"$x is smaller than $y\")"
   ]
  },
  {
   "cell_type": "markdown",
   "metadata": {},
   "source": [
    "When we use  `&&`, `b` executes only if `a` evaluates to `true`\n",
    "If `a` evaluates to `false`, the expression `a && b`return `false`"
   ]
  }
 ],
 "metadata": {
  "kernelspec": {
   "display_name": "Julia 1.9.4",
   "language": "julia",
   "name": "julia-1.9"
  },
  "language_info": {
   "file_extension": ".jl",
   "mimetype": "application/julia",
   "name": "julia",
   "version": "1.9.4"
  }
 },
 "nbformat": 4,
 "nbformat_minor": 2
}
